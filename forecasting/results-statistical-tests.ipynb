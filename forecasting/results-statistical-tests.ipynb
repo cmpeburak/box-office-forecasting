{
 "cells": [
  {
   "cell_type": "code",
   "execution_count": 22,
   "metadata": {
    "collapsed": true
   },
   "outputs": [],
   "source": [
    "import pandas as pd \n",
    "import scipy.stats as stats\n",
    "import numpy as np"
   ]
  },
  {
   "cell_type": "code",
   "execution_count": 23,
   "metadata": {
    "collapsed": false
   },
   "outputs": [],
   "source": [
    "sbest = \"\"\"0.78881988 0.81055901 0.76708075 0.83540373 0.79503106 0.81055901\n",
    " 0.80124224 0.83850932 0.75776398 0.7694704  0.77329193 0.80434783\n",
    " 0.81677019 0.7515528  0.77950311 0.82919255 0.79503106 0.77639752\n",
    " 0.79503106 0.80373832 0.77950311 0.79813665 0.86335404 0.77639752\n",
    " 0.77950311 0.76708075 0.79813665 0.79192547 0.7515528  0.82242991\n",
    " 0.78881988 0.78881988 0.80124224 0.77950311 0.80434783 0.78881988\n",
    " 0.81677019 0.77329193 0.78571429 0.80685358 0.79813665 0.78571429\n",
    " 0.77639752 0.8136646  0.77329193 0.83850932 0.8136646  0.77018634\n",
    " 0.80434783 0.80685358\"\"\"  # ('budget', 'screen_count', 'like_ratio', 'view_count', 'polarity_sia')\n",
    "\n",
    "\n",
    "sBase = \"\"\"0.79192547 0.75776398 0.75776398 0.81677019 0.77329193 0.77950311\n",
    " 0.77639752 0.8136646  0.76708075 0.76323988 0.78881988 0.82608696\n",
    " 0.80434783 0.77950311 0.7826087  0.80434783 0.77329193 0.76708075\n",
    " 0.73913043 0.76635514 0.77018634 0.81055901 0.81987578 0.7484472\n",
    " 0.79813665 0.79192547 0.79813665 0.77950311 0.74534161 0.81308411\n",
    " 0.80745342 0.80124224 0.82608696 0.72981366 0.78881988 0.76397516\n",
    " 0.79813665 0.77329193 0.77018634 0.77570093 0.80434783 0.75465839\n",
    " 0.77329193 0.80124224 0.7484472  0.8136646  0.78571429 0.75465839\n",
    " 0.80434783 0.79439252\"\"\" # ('budget', 'screen_count')"
   ]
  },
  {
   "cell_type": "code",
   "execution_count": 29,
   "metadata": {
    "collapsed": true
   },
   "outputs": [],
   "source": [
    "best = [float(s) for s in sbest.split()]\n",
    "base = [float(s) for s in sBase.split()]\n",
    "results = pd.DataFrame({'base': base, 'best': best})"
   ]
  },
  {
   "cell_type": "code",
   "execution_count": 30,
   "metadata": {
    "collapsed": false
   },
   "outputs": [
    {
     "data": {
      "text/html": [
       "<div>\n",
       "<style scoped>\n",
       "    .dataframe tbody tr th:only-of-type {\n",
       "        vertical-align: middle;\n",
       "    }\n",
       "\n",
       "    .dataframe tbody tr th {\n",
       "        vertical-align: top;\n",
       "    }\n",
       "\n",
       "    .dataframe thead th {\n",
       "        text-align: right;\n",
       "    }\n",
       "</style>\n",
       "<table border=\"1\" class=\"dataframe\">\n",
       "  <thead>\n",
       "    <tr style=\"text-align: right;\">\n",
       "      <th></th>\n",
       "      <th>base</th>\n",
       "      <th>best</th>\n",
       "    </tr>\n",
       "  </thead>\n",
       "  <tbody>\n",
       "    <tr>\n",
       "      <th>count</th>\n",
       "      <td>50.000000</td>\n",
       "      <td>50.000000</td>\n",
       "    </tr>\n",
       "    <tr>\n",
       "      <th>mean</th>\n",
       "      <td>0.783473</td>\n",
       "      <td>0.794845</td>\n",
       "    </tr>\n",
       "    <tr>\n",
       "      <th>std</th>\n",
       "      <td>0.023776</td>\n",
       "      <td>0.023300</td>\n",
       "    </tr>\n",
       "    <tr>\n",
       "      <th>min</th>\n",
       "      <td>0.729814</td>\n",
       "      <td>0.751553</td>\n",
       "    </tr>\n",
       "    <tr>\n",
       "      <th>25%</th>\n",
       "      <td>0.767081</td>\n",
       "      <td>0.777174</td>\n",
       "    </tr>\n",
       "    <tr>\n",
       "      <th>50%</th>\n",
       "      <td>0.781056</td>\n",
       "      <td>0.795031</td>\n",
       "    </tr>\n",
       "    <tr>\n",
       "      <th>75%</th>\n",
       "      <td>0.803571</td>\n",
       "      <td>0.806854</td>\n",
       "    </tr>\n",
       "    <tr>\n",
       "      <th>max</th>\n",
       "      <td>0.826087</td>\n",
       "      <td>0.863354</td>\n",
       "    </tr>\n",
       "  </tbody>\n",
       "</table>\n",
       "</div>"
      ],
      "text/plain": [
       "            base       best\n",
       "count  50.000000  50.000000\n",
       "mean    0.783473   0.794845\n",
       "std     0.023776   0.023300\n",
       "min     0.729814   0.751553\n",
       "25%     0.767081   0.777174\n",
       "50%     0.781056   0.795031\n",
       "75%     0.803571   0.806854\n",
       "max     0.826087   0.863354"
      ]
     },
     "execution_count": 30,
     "metadata": {},
     "output_type": "execute_result"
    }
   ],
   "source": [
    "results.describe()"
   ]
  },
  {
   "cell_type": "markdown",
   "metadata": {},
   "source": [
    "### Check Outliers"
   ]
  },
  {
   "cell_type": "code",
   "execution_count": 40,
   "metadata": {
    "collapsed": false
   },
   "outputs": [
    {
     "data": {
      "image/png": "[encoded data removed]",
      "text/plain": [
       "<matplotlib.figure.Figure at 0x176add0f9e8>"
      ]
     },
     "metadata": {},
     "output_type": "display_data"
    }
   ],
   "source": [
    "from scipy import stats\n",
    "import matplotlib.pyplot as plt\n",
    "\n",
    "results[['base', 'best']].plot(kind='box')\n",
    "plt.savefig('boxplot_outliers.png')\n",
    "plt.show()"
   ]
  },
  {
   "cell_type": "code",
   "execution_count": 34,
   "metadata": {
    "collapsed": false
   },
   "outputs": [
    {
     "data": {
      "image/png": "[encoded data removed]",
      "text/plain": [
       "<matplotlib.figure.Figure at 0x176ada8f940>"
      ]
     },
     "metadata": {},
     "output_type": "display_data"
    }
   ],
   "source": [
    "results['diff'] = results['best'] - results['base']\n",
    "results['diff'].plot(kind='hist', title= 'CV Results Difference Histogram')\n",
    "plt.savefig('cv results difference histogram.png')\n",
    "plt.show()"
   ]
  },
  {
   "cell_type": "code",
   "execution_count": 35,
   "metadata": {
    "collapsed": false
   },
   "outputs": [
    {
     "data": {
      "image/png": "[encoded data removed]",
      "text/plain": [
       "<matplotlib.figure.Figure at 0x176adaf0518>"
      ]
     },
     "metadata": {},
     "output_type": "display_data"
    }
   ],
   "source": [
    "stats.probplot(results['diff'], plot= plt)\n",
    "plt.title('cv results Difference Q-Q Plot')\n",
    "plt.savefig('cv results difference qq plot.png')\n",
    "plt.show()"
   ]
  },
  {
   "cell_type": "markdown",
   "metadata": {},
   "source": [
    "There is some deviation from normality, but it does not appear to be severe so there is no need to worry. To be sure, let’s test this statistically to see if the data is normally distributed. To test this, one can use the Shapiro-Wilk test for normality. The first value is the W test value, and the second value it the p-value."
   ]
  },
  {
   "cell_type": "code",
   "execution_count": 36,
   "metadata": {
    "collapsed": false
   },
   "outputs": [
    {
     "data": {
      "text/plain": [
       "(0.9784467220306396, 0.48847609758377075)"
      ]
     },
     "execution_count": 36,
     "metadata": {},
     "output_type": "execute_result"
    }
   ],
   "source": [
    "stats.shapiro(results['diff'])"
   ]
  },
  {
   "cell_type": "markdown",
   "metadata": {},
   "source": [
    "The test was non-significant. Therefore, the difference between the two conditions is normally distributed. If this test were to be significant, an appropriate alternative to use would be the Wilcoxon signed-rank Test."
   ]
  },
  {
   "cell_type": "code",
   "execution_count": 37,
   "metadata": {
    "collapsed": false
   },
   "outputs": [
    {
     "data": {
      "text/plain": [
       "Ttest_relResult(statistic=-3.9161704878896217, pvalue=0.00027837221051350006)"
      ]
     },
     "execution_count": 37,
     "metadata": {},
     "output_type": "execute_result"
    }
   ],
   "source": [
    "stats.ttest_rel(results['base'], results['best'])"
   ]
  },
  {
   "cell_type": "markdown",
   "metadata": {},
   "source": [
    "The p value returned (0.0002783) is lower than threshold 'a' (0.05). Thus the null hypothesis is rejected and we argue that 'Best' performance is significantly different and improved compared to the 'Base' performance of features."
   ]
  },
  {
   "cell_type": "code",
   "execution_count": null,
   "metadata": {
    "collapsed": true
   },
   "outputs": [],
   "source": []
  }
 ],
 "metadata": {
  "kernelspec": {
   "display_name": "Python 3",
   "language": "python",
   "name": "python3"
  },
  "language_info": {
   "codemirror_mode": {
    "name": "ipython",
    "version": 3
   },
   "file_extension": ".py",
   "mimetype": "text/x-python",
   "name": "python",
   "nbconvert_exporter": "python",
   "pygments_lexer": "ipython3",
   "version": "3.6.0"
  }
 },
 "nbformat": 4,
 "nbformat_minor": 2
}
