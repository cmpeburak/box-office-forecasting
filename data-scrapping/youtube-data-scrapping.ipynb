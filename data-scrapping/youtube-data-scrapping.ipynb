{
 "cells": [
  {
   "cell_type": "code",
   "execution_count": 1,
   "metadata": {
    "collapsed": true
   },
   "outputs": [],
   "source": [
    "import pandas as pd\n",
    "import os\n",
    "from apiclient.discovery import build\n",
    "from apiclient.errors import HttpError\n",
    "from oauth2client.tools import argparser\n",
    "from IPython.core.display import clear_output\n",
    "input_path = 'D:\\\\Data\\\\Box-Office-Forecasting'\n",
    "output_path = 'D:\\\\Data\\\\Youtube\\\\Scrapped'"
   ]
  },
  {
   "cell_type": "code",
   "execution_count": 2,
   "metadata": {
    "collapsed": true
   },
   "outputs": [],
   "source": [
    "df_columns = ['name', 'video_id', 'video_name', 'viewCount', 'likeCount', 'dislikeCount', 'commentCount']"
   ]
  },
  {
   "cell_type": "code",
   "execution_count": 3,
   "metadata": {
    "collapsed": true
   },
   "outputs": [],
   "source": [
    "# Set DEVELOPER_KEY to the API key value from the APIs & auth > Registered apps\n",
    "# tab of https://cloud.google.com/console\n",
    "# Please ensure that you have enabled the YouTube Data API for your project.\n",
    "DEVELOPER_KEY = \"\"\n",
    "YOUTUBE_API_SERVICE_NAME = \"youtube\"\n",
    "YOUTUBE_API_VERSION = \"v3\"\n",
    "youtube = build(YOUTUBE_API_SERVICE_NAME, YOUTUBE_API_VERSION, developerKey=DEVELOPER_KEY)"
   ]
  },
  {
   "cell_type": "markdown",
   "metadata": {},
   "source": [
    "## Get movies comments"
   ]
  },
  {
   "cell_type": "code",
   "execution_count": 4,
   "metadata": {
    "collapsed": false
   },
   "outputs": [],
   "source": [
    "def get_comment_threads(youtube, video_id, page_token):\n",
    "    results = youtube.commentThreads().list(\n",
    "        part=\"snippet\",\n",
    "        videoId=video_id,\n",
    "        textFormat=\"plainText\",\n",
    "        maxResults=100,\n",
    "        pageToken=page_token\n",
    "    ).execute()\n",
    "\n",
    "    for item in results[\"items\"]:\n",
    "        comment = item[\"snippet\"][\"topLevelComment\"]\n",
    "        author = comment[\"snippet\"][\"authorDisplayName\"]\n",
    "        text = comment[\"snippet\"][\"textDisplay\"]\n",
    "        publish_date = comment[\"snippet\"][\"publishedAt\"]\n",
    "        comment_like = comment[\"snippet\"][\"likeCount\"]\n",
    "        \n",
    "        ids.append(video_id)\n",
    "        texts.append(text)\n",
    "        publish_dates.append(publish_date)\n",
    "        likes.append(comment_like)\n",
    "        #print(\"Comment by {0}: {1}\".format(author, text))\n",
    "    try:\n",
    "        return results[\"nextPageToken\"]\n",
    "    except:\n",
    "        return None"
   ]
  },
  {
   "cell_type": "code",
   "execution_count": 5,
   "metadata": {
    "collapsed": true
   },
   "outputs": [],
   "source": [
    "movies = pd.read_csv(os.path.join(input_path, 'movie-master-final.csv'), header=0, sep=';', engine='python', encoding= 'utf8')\n",
    "videos = movies['video_id'].unique()"
   ]
  },
  {
   "cell_type": "code",
   "execution_count": 7,
   "metadata": {
    "collapsed": false
   },
   "outputs": [
    {
     "name": "stdout",
     "output_type": "stream",
     "text": [
      "Video(3UHc_-OzstM) comment generation is complete. Status: 1/1\n"
     ]
    }
   ],
   "source": [
    "all_data = pd.DataFrame(columns = ['video_id', 'comment', 'comment_date', 'comment_like'])\n",
    "count = 0\n",
    "selected_videos = videos[0:1]\n",
    "for video_id in selected_videos:\n",
    "    video_id = '3UHc_-OzstM'\n",
    "    ids = []\n",
    "    texts = []\n",
    "    publish_dates = []\n",
    "    likes=[]\n",
    "    next_page_token = None\n",
    "    token_count = 0\n",
    "    while next_page_token or token_count == 0:\n",
    "        try:\n",
    "            token_count = token_count + 1\n",
    "            next_page_token = get_comment_threads(youtube, video_id, next_page_token)\n",
    "        except:\n",
    "            next_page_token = None\n",
    "            pass\n",
    "    video_comments = pd.DataFrame({'video_id': ids, 'comment': texts, 'comment_date': publish_dates, 'comment_like':likes})\n",
    "    \n",
    "    count = count + 1\n",
    "    all_data = pd.concat([all_data, video_comments])\n",
    "    print(\"Video({0}) comment generation is complete. Status: {1}/{2}\".format(video_id, str(count), str(len(selected_videos))))"
   ]
  },
  {
   "cell_type": "code",
   "execution_count": null,
   "metadata": {
    "collapsed": true
   },
   "outputs": [],
   "source": [
    "all_data.to_csv(os.path.join(output_path, 'youtube-comments.csv'), sep=';', encoding= 'utf8', index=False)"
   ]
  },
  {
   "cell_type": "markdown",
   "metadata": {},
   "source": [
    "## Get movie statistics "
   ]
  },
  {
   "cell_type": "code",
   "execution_count": null,
   "metadata": {
    "collapsed": false
   },
   "outputs": [],
   "source": [
    "def get_statistics(video_id):\n",
    "    response = youtube.videos().list(part='statistics, snippet', id=video_id).execute()  \n",
    "    statistics = response['items'][0]['statistics']\n",
    "    return statistics\n",
    "\n",
    "def get_stat_value(stats, key):\n",
    "    if key in stats:\n",
    "        return stats[key]\n",
    "    else:\n",
    "        return None\n",
    "    \n",
    "def youtube_search(movie_name):\n",
    "    search_term = movie_name + \" trailer\"\n",
    "\n",
    "    # Call the search.list method to retrieve results matching the specified query term.\n",
    "    search_response = youtube.search().list(q=search_term, part=\"id, snippet\", maxResults=2).execute()    \n",
    "    search_df = pd.DataFrame(columns = df_columns)\n",
    "    \n",
    "    # Add each result to the appropriate list, and then display the lists of matching videos, channels, and playlists.\n",
    "    for search_result in search_response.get(\"items\", []):\n",
    "        if search_result[\"id\"][\"kind\"] == \"youtube#video\":\n",
    "            statistics = get_statistics(search_result['id']['videoId'])\n",
    "            search_df = search_df.append({'name': movie_name,\n",
    "                                          'video_id': search_result[\"id\"][\"videoId\"],\n",
    "                                          'video_name': search_result[\"snippet\"][\"title\"],                                         \n",
    "                                          'viewCount': get_stat_value(statistics, \"viewCount\"),\n",
    "                                          'likeCount': get_stat_value(statistics, \"likeCount\"),\n",
    "                                          'dislikeCount': get_stat_value(statistics, \"dislikeCount\"),\n",
    "                                          'commentCount': get_stat_value(statistics, \"commentCount\")}, \n",
    "                                         ignore_index=True)\n",
    "    return search_df"
   ]
  },
  {
   "cell_type": "code",
   "execution_count": null,
   "metadata": {
    "collapsed": false
   },
   "outputs": [],
   "source": [
    "m = pd.read_csv(os.path.join(input_path, 'movie-master-final.csv'), header=0, sep=';', engine='python', encoding= 'utf8')"
   ]
  },
  {
   "cell_type": "code",
   "execution_count": null,
   "metadata": {
    "collapsed": false
   },
   "outputs": [],
   "source": [
    "years = [2011]\n",
    "\n",
    "for year in years:\n",
    "    m_year = m[m.year==year]\n",
    "    movies = m_year['name'].unique()\n",
    "    \n",
    "    data = pd.DataFrame(columns = df_columns)\n",
    "    \n",
    "    count=0\n",
    "    for movie_name in movies:\n",
    "        try:\n",
    "            data = pd.concat([data, youtube_search(movie_name)])\n",
    "        except:\n",
    "            pass\n",
    "            \n",
    "        count=count+1\n",
    "        if count % 50 == 0:\n",
    "            clear_output(wait = True)\n",
    "            print(\"Completed:\" + str(count) + \", Remaining:\" + str(len(movies) - count))\n",
    "    \n",
    "    data.to_csv(os.path.join(output_path, 'youtube-stats-' + str(year) + '.csv'), sep=';', encoding= 'utf8', index=False)"
   ]
  }
 ],
 "metadata": {
  "kernelspec": {
   "display_name": "Python 3",
   "language": "python",
   "name": "python3"
  },
  "language_info": {
   "codemirror_mode": {
    "name": "ipython",
    "version": 3
   },
   "file_extension": ".py",
   "mimetype": "text/x-python",
   "name": "python",
   "nbconvert_exporter": "python",
   "pygments_lexer": "ipython3",
   "version": "3.6.0"
  }
 },
 "nbformat": 4,
 "nbformat_minor": 2
}
