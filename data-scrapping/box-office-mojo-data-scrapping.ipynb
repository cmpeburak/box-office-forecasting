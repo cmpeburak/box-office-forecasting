{
 "cells": [
  {
   "cell_type": "code",
   "execution_count": 3,
   "metadata": {
    "collapsed": true
   },
   "outputs": [],
   "source": [
    "import pandas as pd\n",
    "import requests\n",
    "from IPython.core.display import clear_output\n",
    "output_path = 'D:\\\\Data\\\\Box-Office-Forecasting'\n",
    "import os "
   ]
  },
  {
   "cell_type": "markdown",
   "metadata": {},
   "source": [
    "## Screen Counts"
   ]
  },
  {
   "cell_type": "code",
   "execution_count": 43,
   "metadata": {
    "collapsed": true
   },
   "outputs": [],
   "source": [
    "df_columns = ['title', 'studio', 'total_gross', 'total_theaters', 'opening_gross', 'opening_theaters', 'opening_date']"
   ]
  },
  {
   "cell_type": "code",
   "execution_count": 44,
   "metadata": {
    "collapsed": false
   },
   "outputs": [
    {
     "name": "stdout",
     "output_type": "stream",
     "text": [
      "Letter Z is complete\n"
     ]
    }
   ],
   "source": [
    "letters = ['#', 'A', 'B', 'C', 'D', 'E', 'F', 'G', 'H', 'I', 'J', 'K', 'L', 'M', 'N', 'O', 'P', \n",
    "               'Q', 'R', 'S', 'T', 'U', 'V', 'W', 'X', 'Y', 'Z']\n",
    "\n",
    "all_data = pd.DataFrame(columns = df_columns)\n",
    "for letter in letters:\n",
    "    page = 1\n",
    "    fetch_complete = False\n",
    "    while not fetch_complete:\n",
    "        url = \"http://www.boxofficemojo.com/movies/alphabetical.htm?letter=\" + letter + \"&p=.htm&page=\" + str(page)\n",
    "        print(url)\n",
    "        clear_output(wait = True)\n",
    "        \n",
    "        req = requests.get(url=url)\n",
    "        content = pd.read_html(req.content) # pandas uses beautifulsoup to parse the html content\n",
    "\n",
    "        tabular_data = content[3] # choose the correct table from the result\n",
    "        tabular_data = tabular_data.drop(0) # drop the row with the title\n",
    "        if len(tabular_data) == 0:\n",
    "            fetch_complete = True\n",
    "            break\n",
    "        tabular_data.columns = df_columns # housekeeping renamer\n",
    "        \n",
    "        all_data = pd.concat([all_data, tabular_data])\n",
    "        if letter == '#': # it has only one page\n",
    "            fetch_complete = True\n",
    "        page = page + 1\n",
    "    print(\"Letter {0} is complete\".format(letter))\n",
    "    clear_output(wait = True)"
   ]
  },
  {
   "cell_type": "code",
   "execution_count": 48,
   "metadata": {
    "collapsed": false
   },
   "outputs": [],
   "source": [
    "all_data.to_csv(os.path.join(output_path, 'mojo-stats.csv'), sep=';', encoding= 'utf8', index=False)"
   ]
  },
  {
   "cell_type": "markdown",
   "metadata": {},
   "source": [
    "## Seasonality"
   ]
  },
  {
   "cell_type": "code",
   "execution_count": null,
   "metadata": {
    "collapsed": true
   },
   "outputs": [],
   "source": [
    "frames = []\n",
    "for year in range(2000, 2019, 1):\n",
    "    url ='https://www.boxofficemojo.com/seasonal/?chart=byyear&yr='+str(year)+'&view=releasedate'\n",
    "\n",
    "    # pretend to be browser\n",
    "    header = {\n",
    "      \"User-Agent\": \"Mozilla/5.0 (X11; Linux x86_64) AppleWebKit/537.36 (KHTML, like Gecko) Chrome/50.0.2661.75 Safari/537.36\",\n",
    "      \"X-Requested-With\": \"XMLHttpRequest\"\n",
    "    }\n",
    "\n",
    "    r = requests.get(url, headers=header)\n",
    "    data = pd.read_html(r.text, header=0)[2].rename(index=str, columns={\"Season\": \"season\", \"Avg..1\": \"daily_avg_rev\"})\n",
    "    data = data.dropna() # remove last row(Totals) and multiple season rows\n",
    "    data = data[['season', 'daily_avg_rev']]\n",
    "    data['year'] = year\n",
    "\n",
    "    frames.append(data)"
   ]
  },
  {
   "cell_type": "code",
   "execution_count": 138,
   "metadata": {
    "collapsed": false
   },
   "outputs": [],
   "source": [
    "all_data = pd.concat(frames)\n",
    "all_data['daily_avg_rev'] = all_data['daily_avg_rev'].apply(lambda x: float(x.replace('$', '')))\n",
    "all_data['year_season_pct'] = all_data.groupby('year')['daily_avg_rev'].apply(lambda x: x.astype(float)/x.sum())"
   ]
  },
  {
   "cell_type": "code",
   "execution_count": 139,
   "metadata": {
    "collapsed": false
   },
   "outputs": [],
   "source": [
    "all_data.to_csv(os.path.join(output_path, 'seasonality-yearly.csv'), sep=';', encoding= 'utf8', index=False)"
   ]
  },
  {
   "cell_type": "code",
   "execution_count": 151,
   "metadata": {
    "collapsed": false
   },
   "outputs": [
    {
     "name": "stderr",
     "output_type": "stream",
     "text": [
      "C:\\Users\\burak\\AppData\\Local\\Continuum\\Anaconda3\\lib\\site-packages\\ipykernel\\__main__.py:3: SettingWithCopyWarning: \n",
      "A value is trying to be set on a copy of a slice from a DataFrame.\n",
      "Try using .loc[row_indexer,col_indexer] = value instead\n",
      "\n",
      "See the caveats in the documentation: http://pandas.pydata.org/pandas-docs/stable/indexing.html#indexing-view-versus-copy\n",
      "  app.launch_new_instance()\n"
     ]
    }
   ],
   "source": [
    "all_data['overall_season_pct_All'] = all_data.groupby('season')['daily_avg_rev'].transform(lambda x: x.sum()) / all_data['daily_avg_rev'].sum()\n",
    "sample = all_data[all_data.year >= 2010]\n",
    "sample['overall_season_pct'] = sample.groupby('season')['daily_avg_rev'].transform(lambda x: x.sum()) / sample['daily_avg_rev'].sum()\n",
    "sample = sample[['season', 'overall_season_pct']].drop_duplicates()"
   ]
  },
  {
   "cell_type": "code",
   "execution_count": 153,
   "metadata": {
    "collapsed": false
   },
   "outputs": [],
   "source": [
    "sample.to_csv(os.path.join(output_path, 'seasonality-overall.csv'), sep=';', encoding= 'utf8', index=False)"
   ]
  }
 ],
 "metadata": {
  "kernelspec": {
   "display_name": "Python 3",
   "language": "python",
   "name": "python3"
  },
  "language_info": {
   "codemirror_mode": {
    "name": "ipython",
    "version": 3
   },
   "file_extension": ".py",
   "mimetype": "text/x-python",
   "name": "python",
   "nbconvert_exporter": "python",
   "pygments_lexer": "ipython3",
   "version": "3.6.0"
  }
 },
 "nbformat": 4,
 "nbformat_minor": 2
}
