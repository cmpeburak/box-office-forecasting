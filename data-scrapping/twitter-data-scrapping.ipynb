{
 "cells": [
  {
   "cell_type": "code",
   "execution_count": 1,
   "metadata": {
    "collapsed": false
   },
   "outputs": [],
   "source": [
    "import tweepy\n",
    "import pandas as pd\n",
    "import numpy as np\n",
    "import os, re\n",
    "import json\n",
    "from textblob import TextBlob\n",
    "from datetime import date, datetime\n",
    "pd.set_option('display.expand_frame_repr', False)\n",
    "pd.set_option('max_colwidth', -1)"
   ]
  },
  {
   "cell_type": "markdown",
   "metadata": {},
   "source": [
    "### Twitter API Configuration"
   ]
  },
  {
   "cell_type": "code",
   "execution_count": 2,
   "metadata": {
    "collapsed": true
   },
   "outputs": [],
   "source": [
    "auth = tweepy.OAuthHandler(\"\", \"\")\n",
    "auth.set_access_token(\"\", \"\")\n",
    "api = tweepy.API(auth, wait_on_rate_limit=True, wait_on_rate_limit_notify=True)\n",
    "#api = tweepy.API(auth)"
   ]
  },
  {
   "cell_type": "code",
   "execution_count": 3,
   "metadata": {
    "collapsed": false
   },
   "outputs": [],
   "source": [
    "input_path = 'D:\\\\Data\\\\Box-Office-Forecasting'\n",
    "data = pd.read_csv(os.path.join(input_path, 'all-not-null.csv'), header=0, sep=';', engine='python', encoding= 'utf8')\n",
    "movie_names = data.name.unique()\n",
    "\n",
    "# hard to determine relavance of the tweet\n",
    "removed_movies = ['Up', 'Made', 'Life', 'LOL', 'Yes', 'Super', 'Beautiful', 'Red', 'Final', 'Stay',\n",
    "                  'May', 'War', 'Deal', '9', 'Special', 'Alone', 'O', 'Committed', 'Brother'] \n",
    "\n",
    "movie_names = [x for x in movie_names if x not in removed_movies]"
   ]
  },
  {
   "cell_type": "markdown",
   "metadata": {},
   "source": [
    "### Search Movies"
   ]
  },
  {
   "cell_type": "code",
   "execution_count": 4,
   "metadata": {
    "collapsed": false
   },
   "outputs": [],
   "source": [
    "def save_tweet_ids(tweet_id_min_max):\n",
    "    with open('D:\\Data\\Twitter\\\\tweet_id_min_max.json', 'w') as fp:\n",
    "        json.dump(tweet_id_min_max, fp)\n",
    "\n",
    "def get_tweet_ids():\n",
    "    with open('D:\\Data\\Twitter\\\\tweet_id_min_max.json') as f:\n",
    "        tweet_id_min_max = json.load(f)\n",
    "    return tweet_id_min_max\n",
    "    \n",
    "def max_tweet_id(tweet_id_min_max, movie):\n",
    "    try: \n",
    "        return tweet_id_min_max[movie]['max_id']\n",
    "    except:\n",
    "        return 0\n",
    "    \n",
    "def get_tweets(movie, max_id, last_batch_min_id):\n",
    "    # We are going backwards in the timeline. Getting tweets before the last batch's oldest tweet.\n",
    "    tweets = []\n",
    "    \n",
    "    if last_batch_min_id == 0:\n",
    "        if max_id == 0:\n",
    "            tweets = api.search(q= '\"' + movie + '\"' +' movie', count=100, lang='en', tweet_mode='extended')\n",
    "        else:\n",
    "            tweets = api.search(q='\"' + movie + '\"' +' movie', count=100, lang='en', since_id=max_id, tweet_mode='extended')\n",
    "    else:\n",
    "        tweets = api.search(q='\"' + movie + '\"' +' movie', count=100, lang='en', since_id=max_id, max_id=last_batch_min_id,  tweet_mode='extended')\n",
    "    \n",
    "    return tweets"
   ]
  },
  {
   "cell_type": "code",
   "execution_count": 5,
   "metadata": {
    "collapsed": false
   },
   "outputs": [
    {
     "name": "stdout",
     "output_type": "stream",
     "text": [
      "Movie Name: Cast Away, #Tweets: 12, Time: 2019-03-07 17:31:34.760982\n",
      "Movie Name: Gladiator, #Tweets: 58, Time: 2019-03-07 17:31:35.988532\n",
      "Movie Name: American Psycho, #Tweets: 32, Time: 2019-03-07 17:31:37.177908\n",
      "Movie Name: Miss Congeniality, #Tweets: 5, Time: 2019-03-07 17:31:38.272932\n",
      "Movie Name: Bring It On, #Tweets: 120, Time: 2019-03-07 17:31:40.525828\n",
      "Movie Name: Hollow Man, #Tweets: 11, Time: 2019-03-07 17:31:41.874300\n",
      "Movie Name: Pitch Black, #Tweets: 9, Time: 2019-03-07 17:31:43.176998\n",
      "Movie Name: Reindeer Games, #Tweets: 2, Time: 2019-03-07 17:31:44.160525\n",
      "Movie Name: Battlefield Earth, #Tweets: 11, Time: 2019-03-07 17:31:45.345265\n",
      "Movie Name: Dancer in the Dark, #Tweets: 4, Time: 2019-03-07 17:31:46.215973\n",
      "Movie Name: Best in Show, #Tweets: 0, Time: 2019-03-07 17:31:46.879406\n",
      "Movie Name: High Fidelity, #Tweets: 3, Time: 2019-03-07 17:31:47.900293\n",
      "Movie Name: Bedazzled, #Tweets: 6, Time: 2019-03-07 17:31:48.869885\n",
      "Movie Name: Dinosaur, #Tweets: 65, Time: 2019-03-07 17:31:50.161857\n",
      "Movie Name: The Legend of Bagger Vance, #Tweets: 0, Time: 2019-03-07 17:31:50.608429\n",
      "Movie Name: U-571, #Tweets: 0, Time: 2019-03-07 17:31:51.054171\n",
      "Movie Name: The Gift, #Tweets: 21, Time: 2019-03-07 17:31:52.280733\n",
      "Movie Name: The Replacements, #Tweets: 19, Time: 2019-03-07 17:31:53.596337\n",
      "Movie Name: Quills, #Tweets: 15, Time: 2019-03-07 17:31:54.659098\n",
      "Movie Name: Titan A.E., #Tweets: 4, Time: 2019-03-07 17:31:55.671126\n",
      "Movie Name: Where the Heart Is, #Tweets: 3, Time: 2019-03-07 17:31:56.717610\n",
      "Movie Name: Scream 3, #Tweets: 3, Time: 2019-03-07 17:31:57.729681\n",
      "Movie Name: Boiler Room, #Tweets: 2, Time: 2019-03-07 17:31:58.652615\n",
      "Movie Name: The Little Vampire, #Tweets: 0, Time: 2019-03-07 17:31:59.168438\n",
      "Movie Name: Love & Basketball, #Tweets: 8, Time: 2019-03-07 17:32:00.230691\n",
      "Movie Name: Return to Me, #Tweets: 0, Time: 2019-03-07 17:32:00.806896\n",
      "Movie Name: Psycho Beach Party, #Tweets: 2, Time: 2019-03-07 17:32:01.723228\n",
      "Movie Name: Get Carter, #Tweets: 4, Time: 2019-03-07 17:32:02.850730\n",
      "Movie Name: Whatever It Takes, #Tweets: 3, Time: 2019-03-07 17:32:03.772848\n",
      "Movie Name: You Can Count on Me, #Tweets: 2, Time: 2019-03-07 17:32:04.795748\n",
      "Movie Name: Wonder Boys, #Tweets: 2, Time: 2019-03-07 17:32:05.660565\n",
      "Movie Name: Autumn in New York, #Tweets: 0, Time: 2019-03-07 17:32:06.170892\n",
      "Movie Name: Boys and Girls, #Tweets: 9, Time: 2019-03-07 17:32:07.254563\n",
      "Movie Name: The Yards, #Tweets: 0, Time: 2019-03-07 17:32:07.697677\n",
      "Movie Name: Supernova, #Tweets: 13, Time: 2019-03-07 17:32:08.893407\n",
      "Movie Name: Under Suspicion, #Tweets: 0, Time: 2019-03-07 17:32:09.349437\n",
      "Movie Name: The Watcher, #Tweets: 3, Time: 2019-03-07 17:32:10.433188\n",
      "Movie Name: Ready to Rumble, #Tweets: 5, Time: 2019-03-07 17:32:11.417742\n",
      "Movie Name: All the Pretty Horses, #Tweets: 0, Time: 2019-03-07 17:32:11.864760\n",
      "Movie Name: Proof of Life, #Tweets: 2, Time: 2019-03-07 17:32:12.885983\n",
      "Movie Name: Greenfingers, #Tweets: 0, Time: 2019-03-07 17:32:13.409045\n",
      "Movie Name: Woman on Top, #Tweets: 0, Time: 2019-03-07 17:32:13.980520\n",
      "Movie Name: Highlander: Endgame, #Tweets: 0, Time: 2019-03-07 17:32:14.529936\n",
      "Movie Name: Pollock, #Tweets: 5, Time: 2019-03-07 17:32:15.610867\n",
      "Movie Name: Urban Legends: Final Cut, #Tweets: 0, Time: 2019-03-07 17:32:16.016908\n",
      "Movie Name: Girlfight, #Tweets: 5, Time: 2019-03-07 17:32:16.962561\n",
      "Movie Name: Tigerland, #Tweets: 0, Time: 2019-03-07 17:32:17.400200\n",
      "Movie Name: My Dog Skip, #Tweets: 39, Time: 2019-03-07 17:32:18.441113\n",
      "Movie Name: Duets, #Tweets: 3, Time: 2019-03-07 17:32:19.443905\n",
      "Movie Name: Gun Shy, #Tweets: 0, Time: 2019-03-07 17:32:19.926884\n",
      "Movie Name: The Adventures of Rocky & Bullwinkle, #Tweets: 0, Time: 2019-03-07 17:32:20.461988\n",
      "Movie Name: The Weight of Water, #Tweets: 0, Time: 2019-03-07 17:32:20.914813\n",
      "Movie Name: Bamboozled, #Tweets: 13, Time: 2019-03-07 17:32:21.912811\n",
      "Movie Name: Down to You, #Tweets: 21, Time: 2019-03-07 17:32:23.618130\n",
      "Movie Name: The Broken Hearts Club: A Romantic Comedy, #Tweets: 0, Time: 2019-03-07 17:32:24.021116\n",
      "Movie Name: The Million Dollar Hotel, #Tweets: 0, Time: 2019-03-07 17:32:24.441117\n",
      "Movie Name: Drowning Mona, #Tweets: 0, Time: 2019-03-07 17:32:25.075119\n",
      "Movie Name: Waking the Dead, #Tweets: 0, Time: 2019-03-07 17:32:25.554233\n",
      "Movie Name: Gossip, #Tweets: 53, Time: 2019-03-07 17:32:26.822310\n",
      "Movie Name: Lucky Numbers, #Tweets: 0, Time: 2019-03-07 17:32:27.299140\n",
      "Movie Name: Bait, #Tweets: 86, Time: 2019-03-07 17:32:29.397966\n",
      "Movie Name: Here on Earth, #Tweets: 0, Time: 2019-03-07 17:32:30.205847\n",
      "Movie Name: Hamlet, #Tweets: 10, Time: 2019-03-07 17:32:31.324225\n",
      "Movie Name: The In Crowd, #Tweets: 0, Time: 2019-03-07 17:32:31.898771\n",
      "Movie Name: Nurse Betty, #Tweets: 0, Time: 2019-03-07 17:32:32.401023\n",
      "Movie Name: Animal Factory, #Tweets: 0, Time: 2019-03-07 17:32:32.976641\n",
      "Movie Name: Tadpole, #Tweets: 0, Time: 2019-03-07 17:32:33.579667\n",
      "Movie Name: What Planet Are You From?, #Tweets: 0, Time: 2019-03-07 17:32:34.079990\n",
      "Movie Name: The Crew, #Tweets: 60, Time: 2019-03-07 17:32:35.384990\n",
      "Movie Name: The Golden Bowl, #Tweets: 0, Time: 2019-03-07 17:32:35.963339\n",
      "Movie Name: The Specials, #Tweets: 0, Time: 2019-03-07 17:32:36.476736\n",
      "Movie Name: Screwed, #Tweets: 79, Time: 2019-03-07 17:32:39.836357\n",
      "Movie Name: Timecode, #Tweets: 2, Time: 2019-03-07 17:32:40.944061\n",
      "Movie Name: The House of Mirth, #Tweets: 0, Time: 2019-03-07 17:32:41.458545\n",
      "Movie Name: George Washington, #Tweets: 4, Time: 2019-03-07 17:32:42.372216\n",
      "Movie Name: The Calling, #Tweets: 0, Time: 2019-03-07 17:32:42.995161\n",
      "Movie Name: Chuck & Buck, #Tweets: 0, Time: 2019-03-07 17:32:43.457079\n",
      "Movie Name: Where the Money Is, #Tweets: 0, Time: 2019-03-07 17:32:43.989690\n",
      "Movie Name: Vulgar, #Tweets: 39, Time: 2019-03-07 17:32:45.250668\n",
      "Movie Name: Company Man, #Tweets: 0, Time: 2019-03-07 17:32:45.866291\n",
      "Movie Name: Digimon: The Movie, #Tweets: 25, Time: 2019-03-07 17:32:46.937740\n",
      "Movie Name: MVP: Most Valuable Primate, #Tweets: 2, Time: 2019-03-07 17:32:48.024155\n",
      "Movie Name: Songcatcher, #Tweets: 0, Time: 2019-03-07 17:32:48.508925\n",
      "Movie Name: South of Heaven, West of Hell, #Tweets: 0, Time: 2019-03-07 17:32:49.269502\n",
      "Movie Name: Teacher's Pet, #Tweets: 0, Time: 2019-03-07 17:32:50.142554\n",
      "Movie Name: Groove, #Tweets: 162, Time: 2019-03-07 17:32:53.440754\n",
      "Movie Name: Whipped, #Tweets: 463, Time: 2019-03-07 17:32:58.589740\n",
      "Movie Name: 3 Strikes, #Tweets: 4, Time: 2019-03-07 17:32:59.748352\n",
      "Movie Name: Poor White Trash, #Tweets: 0, Time: 2019-03-07 17:33:00.301223\n",
      "Movie Name: Price of Glory, #Tweets: 2, Time: 2019-03-07 17:33:01.320650\n",
      "Movie Name: It Had to Be You, #Tweets: 0, Time: 2019-03-07 17:33:01.838201\n",
      "Movie Name: How to Kill Your Neighbor's Dog, #Tweets: 0, Time: 2019-03-07 17:33:02.347727\n",
      "Movie Name: Prince of Central Park, #Tweets: 0, Time: 2019-03-07 17:33:02.870313\n",
      "Movie Name: Trois, #Tweets: 2, Time: 2019-03-07 17:33:03.880621\n",
      "Movie Name: Vice, #Tweets: 1014, Time: 2019-03-07 17:33:14.324890\n",
      "Movie Name: Deception, #Tweets: 52, Time: 2019-03-07 17:33:15.652015\n",
      "Movie Name: Eban and Charley, #Tweets: 0, Time: 2019-03-07 17:33:16.092622\n",
      "Movie Name: Luminarias, #Tweets: 0, Time: 2019-03-07 17:33:16.545817\n",
      "Movie Name: Wildflower, #Tweets: 4, Time: 2019-03-07 17:33:17.523713\n",
      "Movie Name: Mercy Streets, #Tweets: 0, Time: 2019-03-07 17:33:17.963775\n",
      "Movie Name: The Price of Air, #Tweets: 0, Time: 2019-03-07 17:33:18.631325\n",
      "Movie Name: The Sculptress, #Tweets: 0, Time: 2019-03-07 17:33:19.089644\n",
      "Movie Name: The Amati Girls, #Tweets: 0, Time: 2019-03-07 17:33:19.518003\n",
      "Movie Name: Enemies of Laughter, #Tweets: 0, Time: 2019-03-07 17:33:19.989987\n",
      "Movie Name: Camera Obscura, #Tweets: 3, Time: 2019-03-07 17:33:20.970263\n"
     ]
    },
    {
     "name": "stderr",
     "output_type": "stream",
     "text": [
      "Rate limit reached. Sleeping for: 790\n"
     ]
    },
    {
     "ename": "KeyboardInterrupt",
     "evalue": "",
     "output_type": "error",
     "traceback": [
      "\u001b[0;31m---------------------------------------------------------------------------\u001b[0m",
      "\u001b[0;31mKeyboardInterrupt\u001b[0m                         Traceback (most recent call last)",
      "\u001b[0;32m<ipython-input-5-fad544034b63>\u001b[0m in \u001b[0;36m<module>\u001b[0;34m()\u001b[0m\n\u001b[1;32m      9\u001b[0m     \u001b[0mmovie_ids\u001b[0m\u001b[1;33m=\u001b[0m\u001b[1;33m[\u001b[0m\u001b[1;33m]\u001b[0m\u001b[1;33m\u001b[0m\u001b[0m\n\u001b[1;32m     10\u001b[0m     \u001b[1;32mwhile\u001b[0m \u001b[1;32mTrue\u001b[0m\u001b[1;33m:\u001b[0m\u001b[1;33m\u001b[0m\u001b[0m\n\u001b[0;32m---> 11\u001b[0;31m         \u001b[0mtweets\u001b[0m \u001b[1;33m=\u001b[0m \u001b[0mget_tweets\u001b[0m\u001b[1;33m(\u001b[0m\u001b[0mmovie\u001b[0m\u001b[1;33m,\u001b[0m \u001b[0mmax_id\u001b[0m\u001b[1;33m,\u001b[0m \u001b[0mlast_batch_min_id\u001b[0m\u001b[1;33m)\u001b[0m\u001b[1;33m\u001b[0m\u001b[0m\n\u001b[0m\u001b[1;32m     12\u001b[0m         \u001b[1;32mif\u001b[0m \u001b[0mlen\u001b[0m\u001b[1;33m(\u001b[0m\u001b[0mtweets\u001b[0m\u001b[1;33m)\u001b[0m \u001b[1;33m<=\u001b[0m \u001b[1;36m1\u001b[0m\u001b[1;33m:\u001b[0m\u001b[1;33m\u001b[0m\u001b[0m\n\u001b[1;32m     13\u001b[0m             \u001b[1;31m#print(\"Movie Name: {0}, No more new tweets!\".format(movie))\u001b[0m\u001b[1;33m\u001b[0m\u001b[1;33m\u001b[0m\u001b[0m\n",
      "\u001b[0;32m<ipython-input-4-82f3c281e363>\u001b[0m in \u001b[0;36mget_tweets\u001b[0;34m(movie, max_id, last_batch_min_id)\u001b[0m\n\u001b[1;32m     24\u001b[0m             \u001b[0mtweets\u001b[0m \u001b[1;33m=\u001b[0m \u001b[0mapi\u001b[0m\u001b[1;33m.\u001b[0m\u001b[0msearch\u001b[0m\u001b[1;33m(\u001b[0m\u001b[0mq\u001b[0m\u001b[1;33m=\u001b[0m\u001b[1;34m'\"'\u001b[0m \u001b[1;33m+\u001b[0m \u001b[0mmovie\u001b[0m \u001b[1;33m+\u001b[0m \u001b[1;34m'\"'\u001b[0m \u001b[1;33m+\u001b[0m\u001b[1;34m' movie'\u001b[0m\u001b[1;33m,\u001b[0m \u001b[0mcount\u001b[0m\u001b[1;33m=\u001b[0m\u001b[1;36m100\u001b[0m\u001b[1;33m,\u001b[0m \u001b[0mlang\u001b[0m\u001b[1;33m=\u001b[0m\u001b[1;34m'en'\u001b[0m\u001b[1;33m,\u001b[0m \u001b[0msince_id\u001b[0m\u001b[1;33m=\u001b[0m\u001b[0mmax_id\u001b[0m\u001b[1;33m)\u001b[0m\u001b[1;33m\u001b[0m\u001b[0m\n\u001b[1;32m     25\u001b[0m     \u001b[1;32melse\u001b[0m\u001b[1;33m:\u001b[0m\u001b[1;33m\u001b[0m\u001b[0m\n\u001b[0;32m---> 26\u001b[0;31m         \u001b[0mtweets\u001b[0m \u001b[1;33m=\u001b[0m \u001b[0mapi\u001b[0m\u001b[1;33m.\u001b[0m\u001b[0msearch\u001b[0m\u001b[1;33m(\u001b[0m\u001b[0mq\u001b[0m\u001b[1;33m=\u001b[0m\u001b[1;34m'\"'\u001b[0m \u001b[1;33m+\u001b[0m \u001b[0mmovie\u001b[0m \u001b[1;33m+\u001b[0m \u001b[1;34m'\"'\u001b[0m \u001b[1;33m+\u001b[0m\u001b[1;34m' movie'\u001b[0m\u001b[1;33m,\u001b[0m \u001b[0mcount\u001b[0m\u001b[1;33m=\u001b[0m\u001b[1;36m100\u001b[0m\u001b[1;33m,\u001b[0m \u001b[0mlang\u001b[0m\u001b[1;33m=\u001b[0m\u001b[1;34m'en'\u001b[0m\u001b[1;33m,\u001b[0m \u001b[0msince_id\u001b[0m\u001b[1;33m=\u001b[0m\u001b[0mmax_id\u001b[0m\u001b[1;33m,\u001b[0m \u001b[0mmax_id\u001b[0m\u001b[1;33m=\u001b[0m\u001b[0mlast_batch_min_id\u001b[0m\u001b[1;33m)\u001b[0m\u001b[1;33m\u001b[0m\u001b[0m\n\u001b[0m\u001b[1;32m     27\u001b[0m \u001b[1;33m\u001b[0m\u001b[0m\n\u001b[1;32m     28\u001b[0m     \u001b[1;32mreturn\u001b[0m \u001b[0mtweets\u001b[0m\u001b[1;33m\u001b[0m\u001b[0m\n",
      "\u001b[0;32mC:\\Users\\burak\\AppData\\Local\\Continuum\\Anaconda3\\lib\\site-packages\\tweepy\\binder.py\u001b[0m in \u001b[0;36m_call\u001b[0;34m(*args, **kwargs)\u001b[0m\n\u001b[1;32m    248\u001b[0m             \u001b[1;32mreturn\u001b[0m \u001b[0mmethod\u001b[0m\u001b[1;33m\u001b[0m\u001b[0m\n\u001b[1;32m    249\u001b[0m         \u001b[1;32melse\u001b[0m\u001b[1;33m:\u001b[0m\u001b[1;33m\u001b[0m\u001b[0m\n\u001b[0;32m--> 250\u001b[0;31m             \u001b[1;32mreturn\u001b[0m \u001b[0mmethod\u001b[0m\u001b[1;33m.\u001b[0m\u001b[0mexecute\u001b[0m\u001b[1;33m(\u001b[0m\u001b[1;33m)\u001b[0m\u001b[1;33m\u001b[0m\u001b[0m\n\u001b[0m\u001b[1;32m    251\u001b[0m \u001b[1;33m\u001b[0m\u001b[0m\n\u001b[1;32m    252\u001b[0m     \u001b[1;31m# Set pagination mode\u001b[0m\u001b[1;33m\u001b[0m\u001b[1;33m\u001b[0m\u001b[0m\n",
      "\u001b[0;32mC:\\Users\\burak\\AppData\\Local\\Continuum\\Anaconda3\\lib\\site-packages\\tweepy\\binder.py\u001b[0m in \u001b[0;36mexecute\u001b[0;34m(self)\u001b[0m\n\u001b[1;32m    162\u001b[0m                                     \u001b[1;32mif\u001b[0m \u001b[0mself\u001b[0m\u001b[1;33m.\u001b[0m\u001b[0mwait_on_rate_limit_notify\u001b[0m\u001b[1;33m:\u001b[0m\u001b[1;33m\u001b[0m\u001b[0m\n\u001b[1;32m    163\u001b[0m                                         \u001b[0mlog\u001b[0m\u001b[1;33m.\u001b[0m\u001b[0mwarning\u001b[0m\u001b[1;33m(\u001b[0m\u001b[1;34m\"Rate limit reached. Sleeping for: %d\"\u001b[0m \u001b[1;33m%\u001b[0m \u001b[0msleep_time\u001b[0m\u001b[1;33m)\u001b[0m\u001b[1;33m\u001b[0m\u001b[0m\n\u001b[0;32m--> 164\u001b[0;31m                                     \u001b[0mtime\u001b[0m\u001b[1;33m.\u001b[0m\u001b[0msleep\u001b[0m\u001b[1;33m(\u001b[0m\u001b[0msleep_time\u001b[0m \u001b[1;33m+\u001b[0m \u001b[1;36m5\u001b[0m\u001b[1;33m)\u001b[0m  \u001b[1;31m# sleep for few extra sec\u001b[0m\u001b[1;33m\u001b[0m\u001b[0m\n\u001b[0m\u001b[1;32m    165\u001b[0m \u001b[1;33m\u001b[0m\u001b[0m\n\u001b[1;32m    166\u001b[0m                 \u001b[1;31m# if self.wait_on_rate_limit and self._reset_time is not None and \\\u001b[0m\u001b[1;33m\u001b[0m\u001b[1;33m\u001b[0m\u001b[0m\n",
      "\u001b[0;31mKeyboardInterrupt\u001b[0m: "
     ]
    }
   ],
   "source": [
    "ids = []\n",
    "movies = []\n",
    "tweet_texts = []\n",
    "tweet_dates = []\n",
    "for movie in movie_names:\n",
    "    tweet_id_min_max = get_tweet_ids()\n",
    "    max_id = max_tweet_id(tweet_id_min_max, movie)\n",
    "    last_batch_min_id = 0\n",
    "    movie_ids=[]\n",
    "    while True:  \n",
    "        tweets = get_tweets(movie, max_id, last_batch_min_id)\n",
    "        if len(tweets) <= 1:\n",
    "            #print(\"Movie Name: {0}, No more new tweets!\".format(movie))\n",
    "            break\n",
    "        \n",
    "        #print(\"Movie Name: {0}, #Tweets before {1}: {2}\".format(movie, last_batch_min_id, len(tweets)))\n",
    "        for tweet in tweets:\n",
    "            movies.append(movie)\n",
    "            movie_ids.append(tweet.id)\n",
    "            ids.append(tweet.id)\n",
    "            tweet_texts.append(tweet.text)\n",
    "            tweet_dates.append(tweet.created_at)\n",
    "        last_batch_min_id = min(movie_ids)\n",
    "    \n",
    "    print(\"Movie Name: {0}, #Tweets: {1}, Time: {2}\".format(movie, len(movie_ids), str(datetime.now())))\n",
    "    if len(movie_ids) > 0:\n",
    "        max_id = max(movie_ids)\n",
    "    tweet_id_min_max[movie] = {'max_id':max_id}\n",
    "    save_tweet_ids(tweet_id_min_max)"
   ]
  },
  {
   "cell_type": "code",
   "execution_count": null,
   "metadata": {
    "collapsed": false
   },
   "outputs": [],
   "source": [
    "tweets_df = pd.DataFrame({'movie':movies,\n",
    "                          'tweet_id':ids,\n",
    "                          'text': tweet_texts,\n",
    "                          'date': tweet_dates})\n",
    "len(tweets_df)"
   ]
  },
  {
   "cell_type": "markdown",
   "metadata": {},
   "source": [
    "### Pre-processing"
   ]
  },
  {
   "cell_type": "code",
   "execution_count": null,
   "metadata": {
    "collapsed": false
   },
   "outputs": [],
   "source": [
    "def remove_pattern(text, pattern_regex):\n",
    "    r = re.findall(pattern_regex, text)\n",
    "    for i in r:\n",
    "        text = re.sub(i, '', text)\n",
    "    \n",
    "    return text\n",
    "\n",
    "# We are keeping cleaned tweets in a new column called 'tidy_tweets'\n",
    "tweets_df['text'] = np.vectorize(remove_pattern)(tweets_df['text'], \"@[\\w]* | @[\\w:]* | *RT* \")"
   ]
  },
  {
   "cell_type": "markdown",
   "metadata": {},
   "source": [
    "#### Removing links (http | https), strange characters duplicates"
   ]
  },
  {
   "cell_type": "code",
   "execution_count": null,
   "metadata": {
    "collapsed": true
   },
   "outputs": [],
   "source": [
    "cleaned_tweets = []\n",
    "\n",
    "for index, row in tweets_df.iterrows():\n",
    "    # Here we are filtering out all the words that contains link\n",
    "    words_without_links = [word for word in row.text.split()        if 'http' not in word]\n",
    "    cleaned_tweets.append(' '.join(words_without_links))\n",
    "\n",
    "tweets_df['text'] = cleaned_tweets"
   ]
  },
  {
   "cell_type": "code",
   "execution_count": null,
   "metadata": {
    "collapsed": true
   },
   "outputs": [],
   "source": [
    "tweets_df['text'] = tweets_df['text'].str.replace(\"[^a-zA-Z#.,;'!? ]\", \"\")\n",
    "tweets_df = tweets_df.drop_duplicates(subset=['text'], keep=False)"
   ]
  },
  {
   "cell_type": "markdown",
   "metadata": {},
   "source": [
    "#### Save"
   ]
  },
  {
   "cell_type": "code",
   "execution_count": null,
   "metadata": {
    "collapsed": false
   },
   "outputs": [],
   "source": [
    "output_path = 'D:\\\\Data\\\\Twitter'\n",
    "tweets_df.to_csv(os.path.join(output_path, 'tweets_' + datetime.now().strftime(\"%Y-%m-%d\") + '.csv'), \n",
    "                 sep='~', mode='a', encoding= 'utf8', index=False) #appends"
   ]
  }
 ],
 "metadata": {
  "kernelspec": {
   "display_name": "Python 3",
   "language": "python",
   "name": "python3"
  },
  "language_info": {
   "codemirror_mode": {
    "name": "ipython",
    "version": 3
   },
   "file_extension": ".py",
   "mimetype": "text/x-python",
   "name": "python",
   "nbconvert_exporter": "python",
   "pygments_lexer": "ipython3",
   "version": "3.6.0"
  }
 },
 "nbformat": 4,
 "nbformat_minor": 2
}
