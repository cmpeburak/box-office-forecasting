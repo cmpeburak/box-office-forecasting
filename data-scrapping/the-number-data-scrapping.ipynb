{
 "cells": [
  {
   "cell_type": "code",
   "execution_count": 2,
   "metadata": {
    "collapsed": true
   },
   "outputs": [],
   "source": [
    "from IPython.core.display import clear_output\n",
    "from time import sleep, time\n",
    "from random import randint\n",
    "from requests import get\n",
    "import urllib\n",
    "from bs4 import BeautifulSoup\n",
    "import pandas as pd\n",
    "import re, os\n",
    "from datetime import datetime\n",
    "import requests"
   ]
  },
  {
   "cell_type": "code",
   "execution_count": 86,
   "metadata": {
    "collapsed": false
   },
   "outputs": [],
   "source": [
    "frames = []\n",
    "for i in range(1, 5702, 100):\n",
    "    url ='https://www.the-numbers.com/movie/budgets/all/' + str(i)\n",
    "\n",
    "    # pretend to be browser\n",
    "    header = {\n",
    "      \"User-Agent\": \"Mozilla/5.0 (X11; Linux x86_64) AppleWebKit/537.36 (KHTML, like Gecko) Chrome/50.0.2661.75 Safari/537.36\",\n",
    "      \"X-Requested-With\": \"XMLHttpRequest\"\n",
    "    }\n",
    "    \n",
    "    r = requests.get(url, headers=header)\n",
    "    r.encoding = 'utf-8'\n",
    "\n",
    "    \n",
    "    \n",
    "    data = pd.read_html(r.text, header=0)[0]\n",
    "    data = data.drop(data.columns[0], axis=1)\n",
    "    data['Production Budget'] = data['Production Budget'].apply(lambda x: float(x[1:].replace(',', '')))\n",
    "    data['Domestic Gross'] = data['Domestic Gross'].apply(lambda x: float(x[1:].replace(',', '')))\n",
    "    data['Worldwide Gross'] = data['Worldwide Gross'].apply(lambda x: float(x[1:].replace(',', '')))\n",
    "    \n",
    "    frames.append(data)\n",
    "all_data = pd.concat(frames)"
   ]
  },
  {
   "cell_type": "code",
   "execution_count": 87,
   "metadata": {
    "collapsed": false
   },
   "outputs": [],
   "source": [
    "output_path = 'D:\\\\Data\\\\Box-Office-Forecasting'\n",
    "all_data.to_csv(os.path.join(output_path, 'the-numbers-finance.csv'), sep=';', encoding= 'utf8', index=False)"
   ]
  },
  {
   "cell_type": "code",
   "execution_count": 37,
   "metadata": {
    "collapsed": false
   },
   "outputs": [
    {
     "data": {
      "text/html": [
       "<div>\n",
       "<table border=\"1\" class=\"dataframe\">\n",
       "  <thead>\n",
       "    <tr style=\"text-align: right;\">\n",
       "      <th></th>\n",
       "      <th>Release Date</th>\n",
       "      <th>Movie</th>\n",
       "      <th>Production Budget</th>\n",
       "      <th>Domestic Gross</th>\n",
       "      <th>Worldwide Gross</th>\n",
       "    </tr>\n",
       "  </thead>\n",
       "  <tbody>\n",
       "    <tr>\n",
       "      <th>6</th>\n",
       "      <td>May 24, 2007</td>\n",
       "      <td>Pirates of the Caribbean: At Worldâs End</td>\n",
       "      <td>$300,000,000</td>\n",
       "      <td>$309,420,425</td>\n",
       "      <td>$963,420,425</td>\n",
       "    </tr>\n",
       "  </tbody>\n",
       "</table>\n",
       "</div>"
      ],
      "text/plain": [
       "   Release Date                                       Movie Production Budget  \\\n",
       "6  May 24, 2007  Pirates of the Caribbean: At Worldâs End      $300,000,000   \n",
       "\n",
       "  Domestic Gross Worldwide Gross  \n",
       "6   $309,420,425    $963,420,425  "
      ]
     },
     "execution_count": 37,
     "metadata": {},
     "output_type": "execute_result"
    }
   ],
   "source": [
    "all_data[all_data['Release Date'] == 'May 24, 2007']"
   ]
  }
 ],
 "metadata": {
  "kernelspec": {
   "display_name": "Python 3",
   "language": "python",
   "name": "python3"
  },
  "language_info": {
   "codemirror_mode": {
    "name": "ipython",
    "version": 3
   },
   "file_extension": ".py",
   "mimetype": "text/x-python",
   "name": "python",
   "nbconvert_exporter": "python",
   "pygments_lexer": "ipython3",
   "version": "3.6.0"
  }
 },
 "nbformat": 4,
 "nbformat_minor": 2
}
